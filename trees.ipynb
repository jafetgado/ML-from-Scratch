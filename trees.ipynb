{
 "cells": [
  {
   "cell_type": "markdown",
   "metadata": {},
   "source": [
    "## Imports"
   ]
  },
  {
   "cell_type": "code",
   "execution_count": 46,
   "metadata": {},
   "outputs": [],
   "source": [
    "\n",
    "from src import trees\n",
    "\n",
    "from sklearn.datasets import load_iris\n",
    "from sklearn.datasets import load_wine\n",
    "from sklearn.model_selection import train_test_split\n",
    "from sklearn.metrics import accuracy_score"
   ]
  },
  {
   "cell_type": "code",
   "execution_count": 48,
   "metadata": {},
   "outputs": [
    {
     "name": "stdout",
     "output_type": "stream",
     "text": [
      "(120, 4) (30, 4) (120,) (30,)\n",
      "Accuracy: 1.00\n",
      "\n",
      "Tree Structure:\n",
      "If Feature[2] <= 1.95:\n",
      "  Leaf: 0\n",
      "Else:\n",
      "  If Feature[2] <= 4.75:\n",
      "    If Feature[3] <= 1.65:\n",
      "      Leaf: 1\n",
      "    Else:\n",
      "      Leaf: 2\n",
      "  Else:\n",
      "    If Feature[3] <= 1.75:\n",
      "      Leaf: 1\n",
      "    Else:\n",
      "      Leaf: 2\n"
     ]
    }
   ],
   "source": [
    "# Example with Iris dataset\n",
    "iris = load_iris()\n",
    "X = iris.data\n",
    "y = iris.target\n",
    "\n",
    "# Split the data into training and testing sets\n",
    "X_train, X_test, y_train, y_test = train_test_split(X, y, test_size=0.2, random_state=42)\n",
    "print(X_train.shape, X_test.shape, y_train.shape, y_test.shape)\n",
    "\n",
    "# Create and train the classifier\n",
    "clf = trees.DecisionTreeClassifier(max_depth=3)\n",
    "clf.fit(X_train, y_train)\n",
    "y_pred = clf.predict(X_test)\n",
    "accuracy = accuracy_score(y_test, y_pred)\n",
    "print(f\"Accuracy: {accuracy:.2f}\")\n",
    "\n",
    "# Print the tree structure\n",
    "print(\"\\nTree Structure:\")\n",
    "clf.print_tree()\n",
    "\n"
   ]
  },
  {
   "cell_type": "code",
   "execution_count": 50,
   "metadata": {},
   "outputs": [
    {
     "name": "stdout",
     "output_type": "stream",
     "text": [
      "(142, 13) (36, 13) (142,) (36,)\n",
      "Accuracy: 0.94\n",
      "\n",
      "Tree Structure:\n",
      "If color_intensity <= 3.81:\n",
      "  If proline <= 1002.50:\n",
      "    If ash <= 2.93:\n",
      "      Leaf: 1\n",
      "    Else:\n",
      "      Leaf: 0\n",
      "  Else:\n",
      "    Leaf: 0\n",
      "Else:\n",
      "  If flavanoids <= 1.40:\n",
      "    Leaf: 2\n",
      "  Else:\n",
      "    If proline <= 724.50:\n",
      "      If alcohol <= 13.14:\n",
      "        Leaf: 1\n",
      "      Else:\n",
      "        Leaf: 0\n",
      "    Else:\n",
      "      Leaf: 0\n"
     ]
    }
   ],
   "source": [
    "# Example with Wine dataset\n",
    "wine = load_wine()\n",
    "X = wine.data\n",
    "y = wine.target\n",
    "names = wine.feature_names\n",
    "\n",
    "\n",
    "# Split the data into training and testing sets\n",
    "X_train, X_test, y_train, y_test = train_test_split(X, y, test_size=0.2, random_state=42)\n",
    "print(X_train.shape, X_test.shape, y_train.shape, y_test.shape)\n",
    "\n",
    "# Create and train the classifier\n",
    "clf = trees.DecisionTreeClassifier(max_depth=5)\n",
    "clf.fit(X_train, y_train)\n",
    "y_pred = clf.predict(X_test)\n",
    "accuracy = accuracy_score(y_test, y_pred)\n",
    "print(f\"Accuracy: {accuracy:.2f}\")\n",
    "\n",
    "# Print the tree structure\n",
    "print(\"\\nTree Structure:\")\n",
    "clf.print_tree(feature_names=names)\n",
    "\n"
   ]
  }
 ],
 "metadata": {
  "kernelspec": {
   "display_name": "Python 3",
   "language": "python",
   "name": "python3"
  },
  "language_info": {
   "codemirror_mode": {
    "name": "ipython",
    "version": 3
   },
   "file_extension": ".py",
   "mimetype": "text/x-python",
   "name": "python",
   "nbconvert_exporter": "python",
   "pygments_lexer": "ipython3",
   "version": "3.8.8"
  }
 },
 "nbformat": 4,
 "nbformat_minor": 2
}
